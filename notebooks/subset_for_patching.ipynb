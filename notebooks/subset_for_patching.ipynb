{
 "cells": [
  {
   "cell_type": "code",
   "id": "initial_id",
   "metadata": {
    "collapsed": true,
    "ExecuteTime": {
     "end_time": "2024-08-23T23:46:55.159025Z",
     "start_time": "2024-08-23T23:46:55.155910Z"
    }
   },
   "source": [
    "files_to_use = ['Tennis_1920x1080_24fps_8bit_420_Motion_QP47_SFB_1.avi',\n",
    "                'Tennis_1920x1080_24fps_8bit_420_Motion_QP32_BT_1.avi',\n",
    "                'DanceKiss_1920x1080_25fps_8bit_420_Dark_QP47_FB_4.avi',\n",
    "                'DanceKiss_1920x1080_25fps_8bit_420_Dark_QP32_SB_4.avi',\n",
    "                'Kimono1_1920x1080_24fps_8bit_420_graininess_QP47_B_4.avi',\n",
    "                'Kimono1_1920x1080_24fps_8bit_420_graininess_QP32_FB_1.avi',\n",
    "                'OldTownCross_1920x1080_25fps_8bit_420_graininess_QP47_SB_4.avi',\n",
    "                'OldTownCross_1920x1080_25fps_8bit_420_graininess_QP32_SBT_2.avi',\n",
    "                'BirdsInCage_1920x1080_30fps_8bit_420_Pristine_QP47_SFB_3.avi',\n",
    "                'BirdsInCage_1920x1080_30fps_8bit_420_Pristine_QP32_FBT_1.avi',\n",
    "                'ElFuente1_1920x1080_30fps_8bit_420_aliasing_QP47_SFB_1.avi',\n",
    "                'ElFuente1_1920x1080_30fps_8bit_420_aliasing_QP32_FB_4.avi',\n",
    "                'ElFuente2_1920x1080_30fps_8bit_420_graininess_QP47_SFB_3.avi',\n",
    "                'ElFuente2_1920x1080_30fps_8bit_420_graininess_QP32_S_2.avi',\n",
    "                'BQTerrace_1920x1080_30fps_8bit_420_aliasing_QP47_FB_3.avi',\n",
    "                'BQTerrace_1920x1080_30fps_8bit_420_aliasing_QP32_SF_4.avi',\n",
    "                'CrowdRun_1920x1080_25fps_8bit_420_aliasing_QP47_SFT_4.avi',\n",
    "                'CrowdRun_1920x1080_25fps_8bit_420_aliasing_QP32_SF_1.avi',\n",
    "                'Seeking_1920x1080_25fps_8bit_420_graininess_QP47_SF_2.avi',\n",
    "                'Seeking_1920x1080_25fps_8bit_420_graininess_QP32_SFT_1.avi',\n",
    "                'riverbed_1920x1080_25fps_8bit_420_banding_QP47_SFBT_2.avi',\n",
    "                'riverbed_1920x1080_25fps_8bit_420_banding_QP32_S_3.avi',\n",
    "                'station_1920x1080_30fps_8bit_420_graininess_QP47_SBT_2.avi',\n",
    "                'station_1920x1080_30fps_8bit_420_graininess_QP32_SB_1.avi',\n",
    "                'shields_1280x720_50fps_8bit_420_graininess_QP47_SBT_3.avi',\n",
    "                'shields_1280x720_50fps_8bit_420_graininess_QP32_SFBT_2.avi']"
   ],
   "outputs": [],
   "execution_count": 1
  },
  {
   "metadata": {
    "ExecuteTime": {
     "end_time": "2024-08-23T23:47:04.814760Z",
     "start_time": "2024-08-23T23:47:04.812533Z"
    }
   },
   "cell_type": "code",
   "source": "from pathlib import Path",
   "id": "f68ef83150ac3734",
   "outputs": [],
   "execution_count": 2
  },
  {
   "metadata": {
    "ExecuteTime": {
     "end_time": "2024-08-23T23:50:25.116050Z",
     "start_time": "2024-08-23T23:50:25.090048Z"
    }
   },
   "cell_type": "code",
   "source": [
    "dataset_path = Path('/Volumes/SSD/BVIArtefact')\n",
    "\n",
    "parts = ['part1', 'part2']\n",
    "\n",
    "# file paths of all files in files_to_use in part1 and part2\n",
    "file_paths = []\n",
    "for part in parts:\n",
    "    file_path = dataset_path / part\n",
    "    all_files = list(file_path.glob('*.avi'))\n",
    "    for file in all_files:\n",
    "        if file.name in files_to_use:\n",
    "            file_paths.append(file)    "
   ],
   "id": "fdfacf937f9f286e",
   "outputs": [],
   "execution_count": 3
  },
  {
   "metadata": {
    "ExecuteTime": {
     "end_time": "2024-08-23T23:50:36.713565Z",
     "start_time": "2024-08-23T23:50:36.711235Z"
    }
   },
   "cell_type": "code",
   "source": "len(file_paths)",
   "id": "b4c910a7e71b9503",
   "outputs": [
    {
     "data": {
      "text/plain": [
       "26"
      ]
     },
     "execution_count": 5,
     "metadata": {},
     "output_type": "execute_result"
    }
   ],
   "execution_count": 5
  },
  {
   "metadata": {
    "ExecuteTime": {
     "end_time": "2024-08-23T23:51:31.282402Z",
     "start_time": "2024-08-23T23:51:05.913927Z"
    }
   },
   "cell_type": "code",
   "source": [
    "# copy files to a new folder\n",
    "import shutil\n",
    "\n",
    "new_folder = Path('/Volumes/SSD/BVIArtefact/subset_for_patching')\n",
    "new_folder.mkdir(exist_ok=True)\n",
    "for file in file_paths:\n",
    "    shutil.copy(file, new_folder)"
   ],
   "id": "fa2b07cf8f56b3c6",
   "outputs": [],
   "execution_count": 6
  },
  {
   "metadata": {
    "ExecuteTime": {
     "end_time": "2024-08-23T23:53:20.804168Z",
     "start_time": "2024-08-23T23:53:20.793023Z"
    }
   },
   "cell_type": "code",
   "source": [
    "# copy labels of files in file from /Volumes/SSD/BVIArtefact/processed_labels.json to /Volumes/SSD/BVIArtefact/subset_for_patching\n",
    "import json\n",
    "\n",
    "with open(dataset_path / 'processed_labels.json', 'r') as f:\n",
    "    labels = json.load(f)\n",
    "    \n",
    "new_labels = {}\n",
    "for file in file_paths:\n",
    "    new_labels[file.name] = labels[file.name]\n",
    "    \n",
    "with open(new_folder / 'labels.json', 'w') as f:\n",
    "    json.dump(new_labels, f)"
   ],
   "id": "3ab6eaf72d2ebf1c",
   "outputs": [],
   "execution_count": 7
  },
  {
   "metadata": {
    "ExecuteTime": {
     "end_time": "2024-08-24T00:02:44.629506Z",
     "start_time": "2024-08-24T00:02:44.547315Z"
    }
   },
   "cell_type": "code",
   "source": [
    "import os\n",
    "import random\n",
    "\n",
    "# Paths (Assuming the script is in the same directory as the dataset)\n",
    "dataset_dir = '/Volumes/SSD/subsets/subset_for_patching'\n",
    "labels_file = os.path.join(dataset_dir, 'labels.json')\n",
    "\n",
    "# Load the labels\n",
    "with open(labels_file, 'r') as f:\n",
    "    labels = json.load(f)\n",
    "\n",
    "# Split ratios\n",
    "train_ratio = 0.7\n",
    "val_ratio = 0.15\n",
    "test_ratio = 0.15\n",
    "\n",
    "# Ensure the output directories exist\n",
    "train_dir = os.path.join(dataset_dir, 'train')\n",
    "val_dir = os.path.join(dataset_dir, 'val')\n",
    "test_dir = os.path.join(dataset_dir, 'test')\n",
    "\n",
    "os.makedirs(train_dir, exist_ok=True)\n",
    "os.makedirs(val_dir, exist_ok=True)\n",
    "os.makedirs(test_dir, exist_ok=True)\n",
    "\n",
    "# Get list of all video files\n",
    "video_files = [f for f in os.listdir(dataset_dir) if f.endswith('.avi')]\n",
    "\n",
    "# Shuffle the dataset\n",
    "random.shuffle(video_files)\n",
    "\n",
    "# Calculate the split indices\n",
    "train_idx = int(len(video_files) * train_ratio)\n",
    "val_idx = train_idx + int(len(video_files) * val_ratio)\n",
    "\n",
    "# Split the files\n",
    "train_files = video_files[:train_idx]\n",
    "val_files = video_files[train_idx:val_idx]\n",
    "test_files = video_files[val_idx:]\n",
    "\n",
    "# Helper function to move files and save labels\n",
    "def move_files_and_save_labels(files, destination_dir, label_dict):\n",
    "    dest_labels = {}\n",
    "    for file in files:\n",
    "        # Skip hidden files or files not present in the label_dict\n",
    "        if file not in label_dict:\n",
    "            print(f\"Skipping {file} as it is not found in labels.json\")\n",
    "            continue\n",
    "        src_path = os.path.join(dataset_dir, file)\n",
    "        dest_path = os.path.join(destination_dir, file)\n",
    "        shutil.move(src_path, dest_path)\n",
    "        dest_labels[file] = label_dict[file]\n",
    "    \n",
    "    # Save the labels file\n",
    "    labels_file_path = os.path.join(destination_dir, 'labels.json')\n",
    "    with open(labels_file_path, 'w') as f:\n",
    "        json.dump(dest_labels, f, indent=4)\n",
    "\n",
    "# Move the files and save the corresponding labels\n",
    "move_files_and_save_labels(train_files, train_dir, labels)\n",
    "move_files_and_save_labels(val_files, val_dir, labels)\n",
    "move_files_and_save_labels(test_files, test_dir, labels)\n",
    "\n",
    "print(\"Dataset has been reorganized successfully!\")"
   ],
   "id": "9b909bde7c2e0915",
   "outputs": [
    {
     "name": "stdout",
     "output_type": "stream",
     "text": [
      "Skipping ._Kimono1_1920x1080_24fps_8bit_420_graininess_QP32_FB_1.avi as it is not found in labels.json\n",
      "Skipping ._ElFuente1_1920x1080_30fps_8bit_420_aliasing_QP32_FB_4.avi as it is not found in labels.json\n",
      "Skipping ._BQTerrace_1920x1080_30fps_8bit_420_aliasing_QP32_SF_4.avi as it is not found in labels.json\n",
      "Skipping ._Seeking_1920x1080_25fps_8bit_420_graininess_QP47_SF_2.avi as it is not found in labels.json\n",
      "Skipping ._BirdsInCage_1920x1080_30fps_8bit_420_Pristine_QP32_FBT_1.avi as it is not found in labels.json\n",
      "Skipping ._riverbed_1920x1080_25fps_8bit_420_banding_QP32_S_3.avi as it is not found in labels.json\n",
      "Skipping ._station_1920x1080_30fps_8bit_420_graininess_QP32_SB_1.avi as it is not found in labels.json\n",
      "Skipping ._shields_1280x720_50fps_8bit_420_graininess_QP32_SFBT_2.avi as it is not found in labels.json\n",
      "Skipping ._DanceKiss_1920x1080_25fps_8bit_420_Dark_QP32_SB_4.avi as it is not found in labels.json\n",
      "Skipping ._DanceKiss_1920x1080_25fps_8bit_420_Dark_QP47_FB_4.avi as it is not found in labels.json\n",
      "Skipping ._riverbed_1920x1080_25fps_8bit_420_banding_QP47_SFBT_2.avi as it is not found in labels.json\n",
      "Skipping ._Seeking_1920x1080_25fps_8bit_420_graininess_QP32_SFT_1.avi as it is not found in labels.json\n",
      "Skipping ._BQTerrace_1920x1080_30fps_8bit_420_aliasing_QP47_FB_3.avi as it is not found in labels.json\n",
      "Skipping ._shields_1280x720_50fps_8bit_420_graininess_QP47_SBT_3.avi as it is not found in labels.json\n",
      "Skipping ._BirdsInCage_1920x1080_30fps_8bit_420_Pristine_QP47_SFB_3.avi as it is not found in labels.json\n",
      "Skipping ._Tennis_1920x1080_24fps_8bit_420_Motion_QP32_BT_1.avi as it is not found in labels.json\n",
      "Skipping ._ElFuente1_1920x1080_30fps_8bit_420_aliasing_QP47_SFB_1.avi as it is not found in labels.json\n",
      "Skipping ._OldTownCross_1920x1080_25fps_8bit_420_graininess_QP47_SB_4.avi as it is not found in labels.json\n",
      "Skipping ._ElFuente2_1920x1080_30fps_8bit_420_graininess_QP32_S_2.avi as it is not found in labels.json\n",
      "Skipping ._CrowdRun_1920x1080_25fps_8bit_420_aliasing_QP32_SF_1.avi as it is not found in labels.json\n",
      "Skipping ._ElFuente2_1920x1080_30fps_8bit_420_graininess_QP47_SFB_3.avi as it is not found in labels.json\n",
      "Skipping ._Kimono1_1920x1080_24fps_8bit_420_graininess_QP47_B_4.avi as it is not found in labels.json\n",
      "Skipping ._Tennis_1920x1080_24fps_8bit_420_Motion_QP47_SFB_1.avi as it is not found in labels.json\n",
      "Dataset has been reorganized successfully!\n"
     ]
    }
   ],
   "execution_count": 10
  },
  {
   "metadata": {},
   "cell_type": "code",
   "outputs": [],
   "execution_count": null,
   "source": "",
   "id": "e52181730c5b3138"
  }
 ],
 "metadata": {
  "kernelspec": {
   "display_name": "Python 3",
   "language": "python",
   "name": "python3"
  },
  "language_info": {
   "codemirror_mode": {
    "name": "ipython",
    "version": 2
   },
   "file_extension": ".py",
   "mimetype": "text/x-python",
   "name": "python",
   "nbconvert_exporter": "python",
   "pygments_lexer": "ipython2",
   "version": "2.7.6"
  }
 },
 "nbformat": 4,
 "nbformat_minor": 5
}
